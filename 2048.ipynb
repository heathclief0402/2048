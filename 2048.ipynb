{
 "cells": [
  {
   "cell_type": "markdown",
   "metadata": {},
   "source": [
    "## 2048 game"
   ]
  },
  {
   "cell_type": "code",
   "execution_count": 9,
   "metadata": {},
   "outputs": [],
   "source": [
    "# main func\n",
    "import numpy as np\n",
    "import random\n",
    "import os\n",
    "from IPython.display import clear_output\n",
    "from helper_2048 import (\n",
    "    initialize_game, \n",
    "    add_new_number, \n",
    "    print_board, \n",
    "    move_left, \n",
    "    move_right, \n",
    "    move_up, \n",
    "    move_down, \n",
    "    is_game_over\n",
    ")\n",
    "import time"
   ]
  },
  {
   "cell_type": "code",
   "execution_count": 10,
   "metadata": {},
   "outputs": [],
   "source": [
    "def main(): \n",
    "    board = initialize_game()\n",
    "    while True: \n",
    "        print_board(board)\n",
    "        move = input('Enter move (w=up, s=down, a=left, d=right, q=quit): ')\n",
    "        if move == 'q':\n",
    "            print('Game exited.')\n",
    "            break\n",
    "        elif move == 's':\n",
    "            board = move_down(board)\n",
    "        elif move == 'w':\n",
    "            board = move_up(board)\n",
    "        elif move == 'a':\n",
    "            board = move_left(board)\n",
    "        elif move == 'd':\n",
    "            board = move_right(board)\n",
    "        else:\n",
    "            print('Invalid input, please enter w, a, s, d, or q.')\n",
    "            continue\n",
    "        add_new_number(board)\n",
    "        if is_game_over(board):\n",
    "            break"
   ]
  },
  {
   "cell_type": "code",
   "execution_count": 11,
   "metadata": {},
   "outputs": [
    {
     "name": "stdout",
     "output_type": "stream",
     "text": [
      "0\t0\t0\t2\n",
      "0\t0\t0\t0\n",
      "0\t0\t2\t0\n",
      "0\t0\t0\t0\n"
     ]
    },
    {
     "name": "stdout",
     "output_type": "stream",
     "text": [
      "Enter move (w=up, s=down, a=left, d=right, q=quit):  w\n"
     ]
    },
    {
     "name": "stdout",
     "output_type": "stream",
     "text": [
      "0\t0\t2\t2\n",
      "0\t0\t0\t0\n",
      "0\t0\t0\t0\n",
      "0\t0\t0\t2\n"
     ]
    },
    {
     "name": "stdout",
     "output_type": "stream",
     "text": [
      "Enter move (w=up, s=down, a=left, d=right, q=quit):  a\n"
     ]
    },
    {
     "name": "stdout",
     "output_type": "stream",
     "text": [
      "4\t0\t0\t2\n",
      "0\t0\t0\t0\n",
      "0\t0\t0\t0\n",
      "2\t0\t0\t0\n"
     ]
    },
    {
     "name": "stdout",
     "output_type": "stream",
     "text": [
      "Enter move (w=up, s=down, a=left, d=right, q=quit):  s\n"
     ]
    },
    {
     "name": "stdout",
     "output_type": "stream",
     "text": [
      "0\t2\t0\t0\n",
      "0\t0\t0\t0\n",
      "4\t0\t0\t0\n",
      "2\t0\t0\t2\n"
     ]
    },
    {
     "name": "stdout",
     "output_type": "stream",
     "text": [
      "Enter move (w=up, s=down, a=left, d=right, q=quit):  d\n"
     ]
    },
    {
     "name": "stdout",
     "output_type": "stream",
     "text": [
      "0\t2\t0\t2\n",
      "0\t0\t0\t0\n",
      "0\t0\t0\t4\n",
      "0\t0\t0\t4\n"
     ]
    },
    {
     "name": "stdout",
     "output_type": "stream",
     "text": [
      "Enter move (w=up, s=down, a=left, d=right, q=quit):  q\n"
     ]
    },
    {
     "name": "stdout",
     "output_type": "stream",
     "text": [
      "Game exited.\n"
     ]
    }
   ],
   "source": [
    "if __name__ == '__main__':\n",
    "    main()"
   ]
  }
 ],
 "metadata": {
  "kernelspec": {
   "display_name": "Python 3 (ipykernel)",
   "language": "python",
   "name": "python3"
  },
  "language_info": {
   "codemirror_mode": {
    "name": "ipython",
    "version": 3
   },
   "file_extension": ".py",
   "mimetype": "text/x-python",
   "name": "python",
   "nbconvert_exporter": "python",
   "pygments_lexer": "ipython3",
   "version": "3.11.7"
  }
 },
 "nbformat": 4,
 "nbformat_minor": 4
}
